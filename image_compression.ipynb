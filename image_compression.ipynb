import matplotlib.pyplot as plt
import numpy as np
from PIL import Image
import mercury as mr

file = mr.File(label="File upload", max_file_size="10MB")
print(f"Uploaded Image: {file.filepath}\\{file.filename}")
img = Image.open(file.filepath) #Load the image
imggray = img.convert('LA') #Convert image to grayscale for comparison convenience
plt.figure(figsize=(9, 6))
plt.imshow(imggray) #Display original grayscale image
w,h=imggray.size
resolution = w*h
plt.title("Original Image (Grayscale), Size: %d pixels" % resolution)
plt.axis('off')
plt.show()

imgmat = np.array(list(imggray.getdata(band=0)), float) #Convert image data into a numpy matrix
imgmat.shape = (imggray.size[1], imggray.size[0])
imgmat = np.matrix(imgmat)
plt.figure(figsize=(9, 6))
plt.imshow(imgmat, cmap='gray') #Display grayscale image matrix
plt.title('Image Matrix')
plt.axis('off')
plt.show()
U, sigma, V = np.linalg.svd(imgmat) #Perform Singular Value Decomposition (SVD)

#Reconstruct the image using different numbers of singular vectors
for i in range(1, min(imgmat.shape) + 1,min(imgmat.shape)//10): #min(imgmat.shape) represent max number of singular vectors possible
    res = i*(w+h+1)
    new = np.matrix(U[:, :i]) * np.diag(sigma[:i]) * np.matrix(V[:i, :])
    plt.figure(figsize=(9, 6))
    plt.imshow(new, cmap='gray')
    plt.title("n = %s, Compressed Size: %d pixels, Compression Ratio: %.2f" % (i,res,(resolution/res)))
    plt.axis('off')
    plt.show()
